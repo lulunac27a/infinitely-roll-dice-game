{
 "cells": [
  {
   "cell_type": "markdown",
   "metadata": {},
   "source": [
    "# Dice Game that Infinitely Rolls Until the Rolled Number is not the Number of Sides\n",
    "\n",
    "This project is a dice game using Jupyter Notebooks from iPython that rolls infinitely until the rolled number is not the number of sides of the dice."
   ]
  },
  {
   "cell_type": "code",
   "execution_count": 1,
   "metadata": {},
   "outputs": [
    {
     "data": {
      "application/vnd.jupyter.widget-view+json": {
       "model_id": "9b9e3a3af4f541abaef36fe408117abc",
       "version_major": 2,
       "version_minor": 0
      },
      "text/plain": [
       "IntSlider(value=6, continuous_update=False, description='Number of sides:', max=10, min=2)"
      ]
     },
     "metadata": {},
     "output_type": "display_data"
    },
    {
     "data": {
      "application/vnd.jupyter.widget-view+json": {
       "model_id": "41a75333a4b24ec48e0c4b6818061da1",
       "version_major": 2,
       "version_minor": 0
      },
      "text/plain": [
       "Button(description='Roll Dice', style=ButtonStyle())"
      ]
     },
     "metadata": {},
     "output_type": "display_data"
    },
    {
     "data": {
      "application/vnd.jupyter.widget-view+json": {
       "model_id": "2e5a19eb3b0f4fd3884b7039dbf19140",
       "version_major": 2,
       "version_minor": 0
      },
      "text/plain": [
       "Output()"
      ]
     },
     "metadata": {},
     "output_type": "display_data"
    }
   ],
   "source": [
    "\"\"\"\n",
    "Dice game that rolls infinitely number of times until last rolled dice is not the number of sides of the dice.\n",
    "\"\"\"\n",
    "import random #generate random numbers\n",
    "\n",
    "import ipywidgets as widgets #display widgets in iPython\n",
    "from IPython.display import display, clear_output #display iPython content\n",
    "def roll_dice(sides):\n",
    "    \"\"\"\n",
    "    Rolls the dice with specified number of sides\n",
    "    \"\"\"\n",
    "    return random.randint(1, sides) #roll the dice with specified number of sides\n",
    "    \n",
    "def roll_and_multiply(sides):\n",
    "    \"\"\"\n",
    "    Rolls the dice infinite number of times until last rolled dice is not the number of sides of the dice, then multiply the rolled dice.\n",
    "    \"\"\"\n",
    "    result = 1 #set result to 1\n",
    "    roll = roll_dice(sides) #roll the dice with specified number of sides of dice\n",
    "    while roll == sides: #while rolled dies is not the number of sides of dice\n",
    "        result *= sides #multiply result by number of sides of dice\n",
    "        roll = roll_dice(sides) #roll the dice again\n",
    "\n",
    "    result *= roll #multiply result by last rolled dice\n",
    "    return result #return the result\n",
    "    \n",
    "\n",
    "    \n",
    "num_sides_slider = widgets.IntSlider( #slider to set number of sides\n",
    "    value=6,\n",
    "    min=2,\n",
    "    max=10,\n",
    "    step=1,\n",
    "    description='Number of sides:',\n",
    "    continuous_update=False)\n",
    "\n",
    "change_value = widgets.Button(description='Roll Dice') #button to roll the dice\n",
    "output = widgets.Output() #display output widget\n",
    "display(num_sides_slider, change_value, output) #display widgets\n",
    "\n",
    "def roll_infinite_dice(change): #function to roll infinite dice\n",
    "    with output:\n",
    "        clear_output() #clear the output\n",
    "        global numSides #set number of sides to global varaible\n",
    "        result = roll_and_multiply(num_sides_slider.value) #set result to roll the dice and multiply the rolled dice result\n",
    "        print(result) #print the result\n",
    "        return result #return the result\n",
    "\n",
    "change_value.on_click(roll_infinite_dice) #when roll dice button is clicked, roll the dice\n",
    "\n",
    "num_sides_slider.observe(roll_infinite_dice, names='sides') #observe number of sides slider value\n",
    "sides = num_sides_slider.value #set number of sides based on slider value"
   ]
  }
 ],
 "metadata": {
  "kernelspec": {
   "display_name": "base",
   "language": "python",
   "name": "python3"
  },
  "language_info": {
   "codemirror_mode": {
    "name": "ipython",
    "version": 3
   },
   "file_extension": ".py",
   "mimetype": "text/x-python",
   "name": "python",
   "nbconvert_exporter": "python",
   "pygments_lexer": "ipython3",
   "version": "3.9.13"
  }
 },
 "nbformat": 4,
 "nbformat_minor": 2
}
