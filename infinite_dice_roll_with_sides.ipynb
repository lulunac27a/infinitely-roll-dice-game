{
 "cells": [
  {
   "cell_type": "markdown",
   "metadata": {},
   "source": [
    "# Dice Game that Infinitely Rolls Until the Rolled Number is not the Number of Sides\n",
    "\n",
    "This project is a dice game using Jupyter Notebooks from iPython that rolls infinitely until the rolled number is not the number of sides of the dice."
   ]
  },
  {
   "cell_type": "code",
   "execution_count": 1,
   "metadata": {},
   "outputs": [
    {
     "data": {
      "application/vnd.jupyter.widget-view+json": {
       "model_id": "26faa51911404984b4f520dc32301550",
       "version_major": 2,
       "version_minor": 0
      },
      "text/plain": [
       "IntSlider(value=6, continuous_update=False, description='Number of sides:', max=10, min=2)"
      ]
     },
     "metadata": {},
     "output_type": "display_data"
    },
    {
     "data": {
      "application/vnd.jupyter.widget-view+json": {
       "model_id": "640d3d58882f4915ac0822eb962c5eb1",
       "version_major": 2,
       "version_minor": 0
      },
      "text/plain": [
       "Button(description='Roll Dice', style=ButtonStyle())"
      ]
     },
     "metadata": {},
     "output_type": "display_data"
    },
    {
     "data": {
      "application/vnd.jupyter.widget-view+json": {
       "model_id": "ce9bbf5b5f3e4853a810ca0f56cc2ca8",
       "version_major": 2,
       "version_minor": 0
      },
      "text/plain": [
       "Output()"
      ]
     },
     "metadata": {},
     "output_type": "display_data"
    }
   ],
   "source": [
    "\"\"\"\n",
    "Dice game that rolls infinitely number of times until last rolled dice is not the number of sides of the dice.\n",
    "\"\"\"\n",
    "\n",
    "import random  # generate random numbers\n",
    "\n",
    "import ipywidgets as widgets  # display widgets in iPython\n",
    "from IPython.display import display, clear_output  # display iPython content\n",
    "\n",
    "\n",
    "def roll_dice(sides):\n",
    "    \"\"\"\n",
    "    Rolls the dice with specified number of sides\n",
    "    \"\"\"\n",
    "    return random.randint(1, sides)  # roll the dice with specified number of sides\n",
    "\n",
    "\n",
    "def roll_and_multiply(sides):\n",
    "    \"\"\"\n",
    "    Rolls the dice infinite number of times until last rolled dice is not the number of sides of the dice, then multiply the rolled dice.\n",
    "    \"\"\"\n",
    "    result = 1  # set result to 1\n",
    "    roll = roll_dice(sides)  # roll the dice with specified number of sides of dice\n",
    "    while roll == sides:  # while rolled dies is not the number of sides of dice\n",
    "        result *= sides  # multiply result by number of sides of dice\n",
    "        roll = roll_dice(sides)  # roll the dice again\n",
    "\n",
    "    result *= roll  # multiply result by last rolled dice\n",
    "    return result  # return the result\n",
    "\n",
    "\n",
    "num_sides_slider = widgets.IntSlider(  # slider to set number of sides\n",
    "    value=6,\n",
    "    min=2,\n",
    "    max=10,\n",
    "    step=1,\n",
    "    description=\"Number of sides:\",\n",
    "    continuous_update=False,\n",
    ")\n",
    "\n",
    "change_value = widgets.Button(description=\"Roll Dice\")  # button to roll the dice\n",
    "output = widgets.Output()  # display output widget\n",
    "display(num_sides_slider, change_value, output)  # display widgets\n",
    "\n",
    "\n",
    "def roll_infinite_dice(change):  # function to roll infinite dice\n",
    "    with output:\n",
    "        clear_output()  # clear the output\n",
    "        global numSides  # set number of sides to global varaible\n",
    "        result = roll_and_multiply(\n",
    "            num_sides_slider.value\n",
    "        )  # set result to roll the dice and multiply the rolled dice result\n",
    "        print(result)  # print the result\n",
    "        return result  # return the result\n",
    "\n",
    "\n",
    "change_value.on_click(\n",
    "    roll_infinite_dice\n",
    ")  # when roll dice button is clicked, roll the dice\n",
    "\n",
    "num_sides_slider.observe(\n",
    "    roll_infinite_dice, names=\"sides\"\n",
    ")  # observe number of sides slider value\n",
    "sides = num_sides_slider.value  # set number of sides based on slider value"
   ]
  }
 ],
 "metadata": {
  "kernelspec": {
   "display_name": "base",
   "language": "python",
   "name": "python3"
  },
  "language_info": {
   "codemirror_mode": {
    "name": "ipython",
    "version": 3
   },
   "file_extension": ".py",
   "mimetype": "text/x-python",
   "name": "python",
   "nbconvert_exporter": "python",
   "pygments_lexer": "ipython3",
   "version": "3.9.13"
  }
 },
 "nbformat": 4,
 "nbformat_minor": 2
}
