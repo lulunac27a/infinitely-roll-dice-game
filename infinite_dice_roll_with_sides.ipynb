{
 "cells": [
  {
   "cell_type": "code",
   "execution_count": 2,
   "metadata": {},
   "outputs": [
    {
     "data": {
      "application/vnd.jupyter.widget-view+json": {
       "model_id": "31dd2c8511894165942a1be377f20641",
       "version_major": 2,
       "version_minor": 0
      },
      "text/plain": [
       "IntSlider(value=6, continuous_update=False, description='Number of sides:', max=10, min=2)"
      ]
     },
     "metadata": {},
     "output_type": "display_data"
    },
    {
     "data": {
      "application/vnd.jupyter.widget-view+json": {
       "model_id": "445a7403b9854b1caf1eb8de302f8333",
       "version_major": 2,
       "version_minor": 0
      },
      "text/plain": [
       "Button(description='Roll Dice', style=ButtonStyle())"
      ]
     },
     "metadata": {},
     "output_type": "display_data"
    },
    {
     "data": {
      "application/vnd.jupyter.widget-view+json": {
       "model_id": "4fec52f9630c4f8292736dbf81911003",
       "version_major": 2,
       "version_minor": 0
      },
      "text/plain": [
       "Output()"
      ]
     },
     "metadata": {},
     "output_type": "display_data"
    }
   ],
   "source": [
    "import random\n",
    "\n",
    "import ipywidgets as widgets\n",
    "from IPython.display import display, clear_output\n",
    "\n",
    "def roll_dice(sides):\n",
    "    return random.randint(1, sides)\n",
    "    \n",
    "def roll_and_multiply(sides):\n",
    "    result = 1\n",
    "    roll = roll_dice(sides)\n",
    "    while roll == sides:\n",
    "        result *= sides\n",
    "        roll = roll_dice(sides)\n",
    "\n",
    "    result *= roll\n",
    "    return result\n",
    "    \n",
    "num_sides_slider = widgets.IntSlider(\n",
    "    value=6,\n",
    "    min=2,\n",
    "    max=10,\n",
    "    step=1,\n",
    "    description='Number of sides:',\n",
    "    continuous_update=False)\n",
    "\n",
    "change_value = widgets.Button(description='Roll Dice')\n",
    "output = widgets.Output()\n",
    "display(num_sides_slider, change_value, output)\n",
    "\n",
    "def roll_infinite_dice(change): \n",
    "    with output:\n",
    "        clear_output()\n",
    "        global numSides\n",
    "        result = roll_and_multiply(num_sides_slider.value)\n",
    "        print(result)\n",
    "        return result\n",
    "\n",
    "change_value.on_click(roll_infinite_dice)\n",
    "\n",
    "num_sides_slider.observe(roll_infinite_dice, names='sides')\n",
    "sides = num_sides_slider.value"
   ]
  }
 ],
 "metadata": {
  "kernelspec": {
   "display_name": "base",
   "language": "python",
   "name": "python3"
  },
  "language_info": {
   "codemirror_mode": {
    "name": "ipython",
    "version": 3
   },
   "file_extension": ".py",
   "mimetype": "text/x-python",
   "name": "python",
   "nbconvert_exporter": "python",
   "pygments_lexer": "ipython3",
   "version": "3.9.13"
  }
 },
 "nbformat": 4,
 "nbformat_minor": 2
}
