{
 "cells": [
  {
   "cell_type": "code",
   "execution_count": 1,
   "metadata": {},
   "outputs": [
    {
     "data": {
      "application/vnd.jupyter.widget-view+json": {
       "model_id": "515051a6c6e049e6a131cf26b1f01f24",
       "version_major": 2,
       "version_minor": 0
      },
      "text/plain": [
       "Button(description='Roll Dice', style=ButtonStyle())"
      ]
     },
     "metadata": {},
     "output_type": "display_data"
    },
    {
     "data": {
      "application/vnd.jupyter.widget-view+json": {
       "model_id": "140a432abe794c1784fb1aa5ee1753bb",
       "version_major": 2,
       "version_minor": 0
      },
      "text/plain": [
       "Output()"
      ]
     },
     "metadata": {},
     "output_type": "display_data"
    }
   ],
   "source": [
    "import random\n",
    "\n",
    "import ipywidgets as widgets\n",
    "from IPython.display import display, clear_output\n",
    "\n",
    "def roll_dice():\n",
    "    return random.randint(1, 6)\n",
    "    \n",
    "def roll_and_multiply():\n",
    "    result = 1\n",
    "    roll = roll_dice()\n",
    "    while roll == 6:\n",
    "        result *= 6\n",
    "        roll = roll_dice()\n",
    "\n",
    "    result *= roll\n",
    "    return result\n",
    "\n",
    "change_value = widgets.Button(description='Roll Dice')\n",
    "output = widgets.Output()\n",
    "display(change_value, output)\n",
    "\n",
    "def roll_infinite_dice(change): \n",
    "    with output:\n",
    "        clear_output()\n",
    "        result = roll_and_multiply()\n",
    "        print(result)\n",
    "        return result\n",
    "\n",
    "change_value.on_click(roll_infinite_dice)\n"
   ]
  }
 ],
 "metadata": {
  "kernelspec": {
   "display_name": "base",
   "language": "python",
   "name": "python3"
  },
  "language_info": {
   "codemirror_mode": {
    "name": "ipython",
    "version": 3
   },
   "file_extension": ".py",
   "mimetype": "text/x-python",
   "name": "python",
   "nbconvert_exporter": "python",
   "pygments_lexer": "ipython3",
   "version": "3.9.13"
  }
 },
 "nbformat": 4,
 "nbformat_minor": 2
}
