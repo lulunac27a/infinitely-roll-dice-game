{
 "cells": [
  {
   "cell_type": "markdown",
   "metadata": {},
   "source": [
    "# Dice Game that Infinitely Rolls Until the Rolled Number is not 6\n",
    "\n",
    "This project is a dice game using Jupyter Notebooks from iPython that rolls infinitely until the rolled number is not 6."
   ]
  },
  {
   "cell_type": "code",
   "execution_count": 1,
   "metadata": {},
   "outputs": [
    {
     "data": {
      "application/vnd.jupyter.widget-view+json": {
       "model_id": "138a7f162df2490da61853f48004cf8f",
       "version_major": 2,
       "version_minor": 0
      },
      "text/plain": [
       "Button(description='Roll Dice', style=ButtonStyle())"
      ]
     },
     "metadata": {},
     "output_type": "display_data"
    },
    {
     "data": {
      "application/vnd.jupyter.widget-view+json": {
       "model_id": "24b03b6a804b4fa685cef706beb2f181",
       "version_major": 2,
       "version_minor": 0
      },
      "text/plain": [
       "Output()"
      ]
     },
     "metadata": {},
     "output_type": "display_data"
    }
   ],
   "source": [
    "\"\"\"\n",
    "Dice game that rolls infinitely number of times until last rolled dice is not 6.\n",
    "\"\"\"\n",
    "\n",
    "import random  # generate random numbers\n",
    "\n",
    "import ipywidgets as widgets  # display widgets in iPython\n",
    "from IPython.display import display, clear_output  # display iPython content\n",
    "\n",
    "\n",
    "def roll_dice():\n",
    "    \"\"\"\n",
    "    Rolls the dice.\n",
    "    \"\"\"\n",
    "    return random.randint(1, 6)  # roll 6-sized dice\n",
    "\n",
    "\n",
    "def roll_and_multiply():\n",
    "    \"\"\"\n",
    "    Rolls the dice infinite number of times until last rolled dice is not 6, then multiply the rolled dice.\n",
    "    \"\"\"\n",
    "    result = 1  # set result to 1\n",
    "    roll = roll_dice()  # roll the dice\n",
    "    while roll == 6:  # while rolled dice is 6\n",
    "        result *= 6  # multiply result by 6\n",
    "        roll = roll_dice()  # roll the dice again\n",
    "\n",
    "    result *= roll  # multiply result by last rolled dice\n",
    "    return result  # return the result\n",
    "\n",
    "\n",
    "change_value = widgets.Button(description=\"Roll Dice\")  # button to roll the dice\n",
    "output = widgets.Output()  # display output widget\n",
    "display(change_value, output)  # display widgets\n",
    "\n",
    "\n",
    "def roll_infinite_dice(change):  # function to roll infinite dice\n",
    "    with output:\n",
    "        clear_output()  # clear the output\n",
    "        result = (\n",
    "            roll_and_multiply()\n",
    "        )  # set result to roll the dice and multiply the rolled dice result\n",
    "        print(result)  # print the result\n",
    "        return result  # return the result\n",
    "\n",
    "\n",
    "change_value.on_click(\n",
    "    roll_infinite_dice\n",
    ")  # when roll dice button is clicked, roll the dice"
   ]
  }
 ],
 "metadata": {
  "kernelspec": {
   "display_name": "base",
   "language": "python",
   "name": "python3"
  },
  "language_info": {
   "codemirror_mode": {
    "name": "ipython",
    "version": 3
   },
   "file_extension": ".py",
   "mimetype": "text/x-python",
   "name": "python",
   "nbconvert_exporter": "python",
   "pygments_lexer": "ipython3",
   "version": "3.9.13"
  }
 },
 "nbformat": 4,
 "nbformat_minor": 2
}
