{
 "cells": [
  {
   "cell_type": "code",
   "execution_count": 3,
   "metadata": {},
   "outputs": [
    {
     "data": {
      "application/vnd.jupyter.widget-view+json": {
       "model_id": "dd60a45b99814822aded1bd1f39807c7",
       "version_major": 2,
       "version_minor": 0
      },
      "text/plain": [
       "Button(description='Roll Dice', style=ButtonStyle())"
      ]
     },
     "metadata": {},
     "output_type": "display_data"
    },
    {
     "data": {
      "application/vnd.jupyter.widget-view+json": {
       "model_id": "8757f341edf04ab8bd96a188c58ec918",
       "version_major": 2,
       "version_minor": 0
      },
      "text/plain": [
       "Output()"
      ]
     },
     "metadata": {},
     "output_type": "display_data"
    }
   ],
   "source": [
    "\"\"\"\n",
    "Dice game that rolls infinitely number of times until last rolled dice is not 6.\n",
    "\"\"\"\n",
    "import random #generate random numbers\n",
    "\n",
    "import ipywidgets as widgets #display widgets in iPython\n",
    "from IPython.display import display, clear_output #display iPython content\n",
    "\n",
    "def roll_dice():\n",
    "    \"\"\"\n",
    "    Rolls the dice.\n",
    "    \"\"\"\n",
    "    return random.randint(1, 6) #roll 6-sized dice\n",
    "    \n",
    "def roll_and_multiply():\n",
    "    \"\"\"\n",
    "    Rolls the dice infinite number of times until last rolled dice is not 6, then multiply the rolled dice.\n",
    "    \"\"\"\n",
    "    result = 1 #set result to 1\n",
    "    roll = roll_dice()# roll the dice\n",
    "    while roll == 6: #while rolled dice is 6\n",
    "        result *= 6 #multiply result by 6\n",
    "        roll = roll_dice() #roll the dice again\n",
    "\n",
    "    result *= roll #multiply result by last rolled dice\n",
    "    return result #return the result\n",
    "    \n",
    "\n",
    "\n",
    "change_value = widgets.Button(description='Roll Dice') #button to roll the dice\n",
    "output = widgets.Output() #display output widget\n",
    "display(change_value, output) #display widgets\n",
    "\n",
    "def roll_infinite_dice(change): #function to roll infinite dice\n",
    "    with output:\n",
    "        clear_output() #clear the output\n",
    "        result = roll_and_multiply() #set result to roll the dice and multiply the rolled dice result\n",
    "        print(result) #print the result\n",
    "        return result #return the result\n",
    "\n",
    "change_value.on_click(roll_infinite_dice) #when roll dice butotn is clicked, roll the dice\n"
   ]
  }
 ],
 "metadata": {
  "kernelspec": {
   "display_name": "base",
   "language": "python",
   "name": "python3"
  },
  "language_info": {
   "codemirror_mode": {
    "name": "ipython",
    "version": 3
   },
   "file_extension": ".py",
   "mimetype": "text/x-python",
   "name": "python",
   "nbconvert_exporter": "python",
   "pygments_lexer": "ipython3",
   "version": "3.9.13"
  }
 },
 "nbformat": 4,
 "nbformat_minor": 2
}
